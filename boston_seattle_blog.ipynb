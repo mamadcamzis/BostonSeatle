{
 "cells": [
  {
   "cell_type": "markdown",
   "metadata": {},
   "source": [
    "# Write my first blog  for AirBnB  Boston and Seattle Data Set\n",
    "\n",
    "This notebook explores the AirBnB Boston and Seattle data set. Datas can be found in Kaggle: https://www.kaggle.com/airbnb/seattle, https://www.kaggle.com/airbnb/boston\n",
    "\n",
    "The CRISP-DM structure used is:\n",
    "\n",
    "- Business Understanding\n",
    "- Data Understanding\n",
    "- Prepare Data\n",
    "- Data Modeling\n",
    "- Evaluation\n"
   ]
  },
  {
   "cell_type": "markdown",
   "metadata": {},
   "source": [
    "## Business Understanding\n",
    "We can answer two three interesting question from the above dataset.\n",
    "\n",
    "- When are the peak season to visit Seattle and Boston\n",
    "\n",
    "-  How did some features (neighborhood, no. of bedrooms, etc) affect the price?\n",
    "\n",
    "- Using Machine Learning, which features are more important related to pricing?"
   ]
  },
  {
   "cell_type": "markdown",
   "metadata": {},
   "source": [
    "## Data Understanding\n"
   ]
  },
  {
   "cell_type": "code",
   "execution_count": 2,
   "metadata": {},
   "outputs": [],
   "source": [
    "import pandas as pd\n",
    "import numpy as np \n",
    "import matplotlib.pyplot as plt\n",
    "import seaborn as sns \n",
    "%matplotlib inline"
   ]
  },
  {
   "cell_type": "markdown",
   "metadata": {},
   "source": [
    "In both cities we have three dataset:\n",
    "\n",
    "- Listings, including full descriptions and average review score\n",
    "- Reviews, including unique id for each reviewer and detailed comments\n",
    "- Calendar, including listing id and the price and availability for that day\n",
    "\n",
    "For the next, I will use two of them: listings and calendar\n"
   ]
  },
  {
   "cell_type": "code",
   "execution_count": null,
   "metadata": {},
   "outputs": [],
   "source": [
    "seatlle_list = pd.read_csv('./datas/seattle/listings.csv')\n",
    "seatlle_cal = pd.read_csv('./datas/seattle/calendar.csv')\n",
    "boston"
   ]
  }
 ],
 "metadata": {
  "kernelspec": {
   "display_name": "Python 3",
   "language": "python",
   "name": "python3"
  },
  "language_info": {
   "codemirror_mode": {
    "name": "ipython",
    "version": 3
   },
   "file_extension": ".py",
   "mimetype": "text/x-python",
   "name": "python",
   "nbconvert_exporter": "python",
   "pygments_lexer": "ipython3",
   "version": "3.7.4"
  }
 },
 "nbformat": 4,
 "nbformat_minor": 4
}
